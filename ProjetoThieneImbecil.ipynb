{
  "nbformat": 4,
  "nbformat_minor": 0,
  "metadata": {
    "colab": {
      "provenance": [],
      "authorship_tag": "ABX9TyOdqL6DRBDUS+07y6KCx2jF",
      "include_colab_link": true
    },
    "kernelspec": {
      "name": "python3",
      "display_name": "Python 3"
    },
    "language_info": {
      "name": "python"
    }
  },
  "cells": [
    {
      "cell_type": "markdown",
      "metadata": {
        "id": "view-in-github",
        "colab_type": "text"
      },
      "source": [
        "<a href=\"https://colab.research.google.com/github/brenobraguim/TesteBreno/blob/master/ProjetoThieneImbecil.ipynb\" target=\"_parent\"><img src=\"https://colab.research.google.com/assets/colab-badge.svg\" alt=\"Open In Colab\"/></a>"
      ]
    },
    {
      "cell_type": "code",
      "execution_count": 1,
      "metadata": {
        "id": "xTsAYaNhGcL5"
      },
      "outputs": [],
      "source": [
        "import pandas as pd\n",
        "import numpy as np"
      ]
    },
    {
      "cell_type": "code",
      "source": [
        "df=pd.read_csv(\"teste.csv\")"
      ],
      "metadata": {
        "id": "c9mV6oDMHPxk"
      },
      "execution_count": 4,
      "outputs": []
    },
    {
      "cell_type": "code",
      "source": [
        "df.info\n",
        "df.isnull().sum()"
      ],
      "metadata": {
        "colab": {
          "base_uri": "https://localhost:8080/"
        },
        "id": "cQcUMCy_I8Cj",
        "outputId": "1f257662-dc8d-4455-969d-b734d6bf133c"
      },
      "execution_count": 6,
      "outputs": [
        {
          "output_type": "execute_result",
          "data": {
            "text/plain": [
              "edition           0\n",
              "start_date        0\n",
              "winner_name       0\n",
              "winner_team       0\n",
              "distance          0\n",
              "time_overall      8\n",
              "time_margin       8\n",
              "stage_wins        0\n",
              "stages_led        0\n",
              "height           40\n",
              "weight           39\n",
              "age               0\n",
              "born              0\n",
              "died             50\n",
              "full_name        60\n",
              "nickname         32\n",
              "birth_town        0\n",
              "birth_country     0\n",
              "nationality       0\n",
              "dtype: int64"
            ]
          },
          "metadata": {},
          "execution_count": 6
        }
      ]
    }
  ]
}